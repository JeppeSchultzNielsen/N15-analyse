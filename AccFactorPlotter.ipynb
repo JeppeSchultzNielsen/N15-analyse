{
 "cells": [
  {
   "cell_type": "code",
   "execution_count": 1,
   "id": "c502726b",
   "metadata": {},
   "outputs": [],
   "source": [
    "import numpy as np\n",
    "import matplotlib.pyplot as plt\n",
    "from scipy.optimize import curve_fit\n",
    "import math as math\n",
    "from scipy.optimize import minimize\n",
    "import scipy.stats as ss\n",
    "from scipy.signal import find_peaks \n",
    "from matplotlib import rc\n",
    "from scipy.optimize import fsolve\n",
    "\n",
    "SMALL_SIZE = 16\n",
    "MEDIUM_SIZE = 18\n",
    "BIGGER_SIZE = 24\n",
    "\n",
    "plt.rc('text', usetex=True)\n",
    "plt.rc('font', family='serif')\n",
    "plt.rc('font', size=SMALL_SIZE)          # controls default text sizes\n",
    "plt.rc('axes', titlesize=BIGGER_SIZE)     # fontsize of the axes title\n",
    "plt.rc('axes', labelsize=MEDIUM_SIZE)    # fontsize of the x and y labels\n",
    "plt.rc('xtick', labelsize=SMALL_SIZE)    # fontsize of the tick labels\n",
    "plt.rc('ytick', labelsize=SMALL_SIZE)    # fontsize of the tick labels\n",
    "plt.rc('legend', fontsize=SMALL_SIZE)    # legend fontsize\n",
    "plt.rc('figure', titlesize=BIGGER_SIZE)  # fontsize of the figure title\n",
    "\n",
    "#en figur der fylder en kolonne har bredde 5,8, f.eks: fig, ax= plt.subplots(figsize=(5.8,4))\n",
    "#en figur der fylder to kolonner har dobbeltbredde??"
   ]
  },
  {
   "cell_type": "code",
   "execution_count": 2,
   "id": "f5e39969",
   "metadata": {},
   "outputs": [],
   "source": [
    "data = np.transpose(np.loadtxt(\"AlphaCMs.txt\",skiprows = 1))\n",
    "GV = data[0]\n",
    "alphaEn = data[1]\n",
    "alphaErr = data[2]"
   ]
  },
  {
   "cell_type": "code",
   "execution_count": 3,
   "id": "6e2f90eb",
   "metadata": {},
   "outputs": [
    {
     "data": {
      "text/plain": [
       "array([ 950., 1000.,  975.,  860.,  813., 2460., 2137., 1045.,  920.,\n",
       "        898., 1055.,  835.,  880., 2564., 1034., 1400.])"
      ]
     },
     "execution_count": 3,
     "metadata": {},
     "output_type": "execute_result"
    }
   ],
   "source": [
    "GV"
   ]
  },
  {
   "cell_type": "code",
   "execution_count": 4,
   "id": "8907a6e0",
   "metadata": {},
   "outputs": [],
   "source": [
    "#til at slå op i masses.dat\n",
    "data = np.transpose(np.loadtxt(\"masses.txt\"))\n",
    "\n",
    "N=data[0]\n",
    "Z=data[1]\n",
    "A=data[2]\n",
    "massExcess=data[3]\n",
    "bEPrNkl=data[4]\n",
    "\n",
    "mp = 938.272*1000\n",
    "me = 0.510998*1000\n",
    "mn = 939.565*1000\n",
    "\n",
    "def me2(a, z):\n",
    "    a_indices = np.where(A == a)\n",
    "    z_indices = np.where(Z == z)\n",
    "    a = lambda: print('Could not find mass excess for given numbers')\n",
    "    for i in range(len(a_indices[0])):\n",
    "        if np.any(z_indices[0] == a_indices[0][i]):\n",
    "            me = bEPrNkl[a_indices[0][i]]\n",
    "            a = lambda: me\n",
    "    return a()\n",
    "\n",
    "def m2(a,z): \n",
    "    return mp*z+(a-z)*mn-me2(a,z)*a"
   ]
  },
  {
   "cell_type": "code",
   "execution_count": 5,
   "id": "38f7232c",
   "metadata": {},
   "outputs": [],
   "source": [
    "mp = 938272.08816\n",
    "mAl = m2(27,13)\n",
    "mO = m2(16,8)\n",
    "mN = m2(15,7)\n",
    "mC = m2(12,6)\n",
    "mHe = m2(4,2)"
   ]
  },
  {
   "cell_type": "code",
   "execution_count": 17,
   "id": "1d353dcd",
   "metadata": {},
   "outputs": [],
   "source": [
    "def cmEcalc(gv,a):\n",
    "    accE = gv*a\n",
    "    mb = mp\n",
    "    mt = mN\n",
    "    ms = mHe\n",
    "    ml = mC\n",
    "    beta = np.sqrt(((accE+mb)**2-mb**2))/(accE+mb+mt)\n",
    "    pz = np.sqrt((accE+mb)**2-mb**2)\n",
    "    en = accE + mb + mt\n",
    "    gamma = 1/np.sqrt(1-beta**2)\n",
    "    pzCM = gamma*(pz - beta*en)\n",
    "    enCM = gamma*(en - beta*pz)\n",
    "    return (enCM**2+ms**2-ml**2)/(2*enCM)-ms"
   ]
  },
  {
   "cell_type": "code",
   "execution_count": 18,
   "id": "5c57910d",
   "metadata": {},
   "outputs": [],
   "source": [
    "popt, pcov = curve_fit(cmEcalc,GV,alphaEn,p0 = 1.16, sigma = alphaErr, absolute_sigma = False)"
   ]
  },
  {
   "cell_type": "code",
   "execution_count": 19,
   "id": "63f13426",
   "metadata": {},
   "outputs": [
    {
     "data": {
      "text/plain": [
       "Text(0.5, 1.0, 'Accelerator calibration with $\\\\alpha_0$')"
      ]
     },
     "execution_count": 19,
     "metadata": {},
     "output_type": "execute_result"
    },
    {
     "data": {
      "image/png": "[encoded data removed]",
      "text/plain": [
       "<Figure size 576x432 with 2 Axes>"
      ]
     },
     "metadata": {
      "needs_background": "light"
     },
     "output_type": "display_data"
    }
   ],
   "source": [
    "GVarray = np.linspace(min(GV), max(GV),1000)\n",
    "fig, ax = plt.subplots(2,1,figsize = [8,6],sharex = True,gridspec_kw={'height_ratios': [2, 1]})\n",
    "ax[0].errorbar(GV,alphaEn,xerr=2.5,yerr=alphaErr,fmt='.',capsize=3,label='Data')\n",
    "ax[0].plot(GVarray,cmEcalc(GVarray,*popt), label = r'y = a $\\cdot$ x with a=' + str(np.round(popt[0],4)) + r\"$\\pm$\" + str(np.round(np.sqrt(pcov[0])[0],3)))\n",
    "ax[1].set_xlabel('GV energy [keV]')\n",
    "plt.subplots_adjust(wspace=0, hspace=0)\n",
    "ax[0].set_ylabel(r'Ejected $\\alpha_0$ energy [keV]')\n",
    "ax[0].legend()\n",
    "ax[1].set_ylabel('Residuals [keV]')\n",
    "ax[1].plot(GV,alphaEn-cmEcalc(GV,*popt),'.')\n",
    "ax[0].set_title(r'Accelerator calibration with $\\alpha_0$')"
   ]
  },
  {
   "cell_type": "code",
   "execution_count": 20,
   "id": "ebe14d00",
   "metadata": {},
   "outputs": [
    {
     "data": {
      "text/plain": [
       "array([1.1671594])"
      ]
     },
     "execution_count": 20,
     "metadata": {},
     "output_type": "execute_result"
    }
   ],
   "source": [
    "popt"
   ]
  },
  {
   "cell_type": "code",
   "execution_count": null,
   "id": "64f289cd",
   "metadata": {},
   "outputs": [],
   "source": []
  },
  {
   "cell_type": "code",
   "execution_count": null,
   "id": "1e6979d2",
   "metadata": {},
   "outputs": [],
   "source": []
  }
 ],
 "metadata": {
  "kernelspec": {
   "display_name": "Python 3 (ipykernel)",
   "language": "python",
   "name": "python3"
  },
  "language_info": {
   "codemirror_mode": {
    "name": "ipython",
    "version": 3
   },
   "file_extension": ".py",
   "mimetype": "text/x-python",
   "name": "python",
   "nbconvert_exporter": "python",
   "pygments_lexer": "ipython3",
   "version": "3.8.10"
  }
 },
 "nbformat": 4,
 "nbformat_minor": 5
}
