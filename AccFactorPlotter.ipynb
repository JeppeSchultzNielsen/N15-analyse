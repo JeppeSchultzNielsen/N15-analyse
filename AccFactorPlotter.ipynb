{
 "cells": [
  {
   "cell_type": "code",
   "execution_count": 8,
   "id": "c502726b",
   "metadata": {},
   "outputs": [],
   "source": [
    "import numpy as np\n",
    "import matplotlib.pyplot as plt\n",
    "from scipy.optimize import curve_fit\n",
    "import math as math\n",
    "from scipy.optimize import minimize\n",
    "import scipy.stats as ss\n",
    "from scipy.signal import find_peaks \n",
    "from matplotlib import rc\n",
    "from scipy.optimize import fsolve\n",
    "\n",
    "SMALL_SIZE = 16\n",
    "MEDIUM_SIZE = 18\n",
    "BIGGER_SIZE = 24\n",
    "\n",
    "plt.rc('text', usetex=True)\n",
    "plt.rc('font', family='serif')\n",
    "plt.rc('font', size=SMALL_SIZE)          # controls default text sizes\n",
    "plt.rc('axes', titlesize=BIGGER_SIZE)     # fontsize of the axes title\n",
    "plt.rc('axes', labelsize=MEDIUM_SIZE)    # fontsize of the x and y labels\n",
    "plt.rc('xtick', labelsize=SMALL_SIZE)    # fontsize of the tick labels\n",
    "plt.rc('ytick', labelsize=SMALL_SIZE)    # fontsize of the tick labels\n",
    "plt.rc('legend', fontsize=SMALL_SIZE)    # legend fontsize\n",
    "plt.rc('figure', titlesize=BIGGER_SIZE)  # fontsize of the figure title\n",
    "\n",
    "#en figur der fylder en kolonne har bredde 5,8, f.eks: fig, ax= plt.subplots(figsize=(5.8,4))\n",
    "#en figur der fylder to kolonner har dobbeltbredde??"
   ]
  },
  {
   "cell_type": "code",
   "execution_count": 9,
   "id": "f5e39969",
   "metadata": {},
   "outputs": [],
   "source": [
    "data = np.transpose(np.loadtxt(\"AlphaCMs.txt\",skiprows = 1))\n",
    "GV = np.delete(data[0],13)\n",
    "alphaEn = np.delete(data[1],13)\n",
    "alphaErr = np.delete(data[2],13)\n",
    "alphaErr = alphaErr+5"
   ]
  },
  {
   "cell_type": "code",
   "execution_count": 10,
   "id": "8907a6e0",
   "metadata": {},
   "outputs": [],
   "source": [
    "#til at slå op i masses.dat\n",
    "data = np.transpose(np.loadtxt(\"masses.txt\"))\n",
    "\n",
    "N=data[0]\n",
    "Z=data[1]\n",
    "A=data[2]\n",
    "massExcess=data[3]\n",
    "bEPrNkl=data[4]\n",
    "\n",
    "mp = 938.272*1000\n",
    "me = 0.510998*1000\n",
    "mn = 939.565*1000\n",
    "\n",
    "def me2(a, z):\n",
    "    a_indices = np.where(A == a)\n",
    "    z_indices = np.where(Z == z)\n",
    "    a = lambda: print('Could not find mass excess for given numbers')\n",
    "    for i in range(len(a_indices[0])):\n",
    "        if np.any(z_indices[0] == a_indices[0][i]):\n",
    "            me = bEPrNkl[a_indices[0][i]]\n",
    "            a = lambda: me\n",
    "    return a()\n",
    "\n",
    "def m2(a,z): \n",
    "    return mp*z+(a-z)*mn-me2(a,z)*a"
   ]
  },
  {
   "cell_type": "code",
   "execution_count": 11,
   "id": "38f7232c",
   "metadata": {},
   "outputs": [],
   "source": [
    "mp = 938272.08816\n",
    "mAl = m2(27,13)\n",
    "mO = m2(16,8)\n",
    "mN = m2(15,7)\n",
    "mC = m2(12,6)\n",
    "mHe = m2(4,2)"
   ]
  },
  {
   "cell_type": "code",
   "execution_count": 12,
   "id": "1d353dcd",
   "metadata": {},
   "outputs": [],
   "source": [
    "def cmEcalc(gv,a):\n",
    "    accE = gv*a\n",
    "    mb = mp\n",
    "    mt = mN\n",
    "    ms = mHe\n",
    "    ml = mC\n",
    "    beta = np.sqrt(((accE+mb)**2-mb**2))/(accE+mb+mt)\n",
    "    pz = np.sqrt((accE+mb)**2-mb**2)\n",
    "    en = accE + mb + mt\n",
    "    gamma = 1/np.sqrt(1-beta**2)\n",
    "    pzCM = gamma*(pz - beta*en)\n",
    "    enCM = gamma*(en - beta*pz)\n",
    "    return (enCM**2+ms**2-ml**2)/(2*enCM)-ms"
   ]
  },
  {
   "cell_type": "code",
   "execution_count": 13,
   "id": "5c57910d",
   "metadata": {},
   "outputs": [],
   "source": [
    "popt, pcov = curve_fit(cmEcalc,GV,alphaEn,p0 = 1.16, sigma = alphaErr, absolute_sigma = True)"
   ]
  },
  {
   "cell_type": "code",
   "execution_count": 14,
   "id": "63f13426",
   "metadata": {},
   "outputs": [
    {
     "data": {
      "text/plain": [
       "Text(0.5, 1.0, 'Accelerator calibration with $\\\\alpha_0$')"
      ]
     },
     "execution_count": 14,
     "metadata": {},
     "output_type": "execute_result"
    },
    {
     "data": {
      "image/png": "[encoded data removed]",
      "text/plain": [
       "<Figure size 648x360 with 2 Axes>"
      ]
     },
     "metadata": {
      "needs_background": "light"
     },
     "output_type": "display_data"
    }
   ],
   "source": [
    "GVarray = np.linspace(min(GV), max(GV),1000)\n",
    "fig, ax = plt.subplots(2,1,figsize = [9,5],sharex = True,gridspec_kw={'height_ratios': [2, 1]})\n",
    "ax[0].errorbar(GV,alphaEn,xerr=2.5,yerr=alphaErr,fmt='.',capsize=3,label='Data')\n",
    "ax[0].plot(GVarray,cmEcalc(GVarray,*popt), label = r'Fit to expected $\\alpha$ energy with'+ '\\n' +'proton energy being a$\\cdot$GV')\n",
    "ax[1].set_xlabel('Generating voltage [kV]')\n",
    "plt.subplots_adjust(wspace=0, hspace=0)\n",
    "ax[0].set_ylabel(r'$\\alpha_0$ CM energy [keV]')\n",
    "ax[0].legend()\n",
    "ax[1].set_ylabel('Residuals [keV]')\n",
    "ax[1].errorbar(GV,alphaEn-cmEcalc(GV,*popt),yerr=alphaErr,xerr=2.5,fmt='.',capsize=3)\n",
    "ax[0].set_title(r'Accelerator calibration with $\\alpha_0$')\n",
    "#fig.savefig('AccCal.png',dpi=300, bbox_inches = 'tight',facecolor='white', transparent=False)"
   ]
  },
  {
   "cell_type": "code",
   "execution_count": 17,
   "id": "6a740ec9",
   "metadata": {},
   "outputs": [
    {
     "data": {
      "text/plain": [
       "array([[0.00155888]])"
      ]
     },
     "execution_count": 17,
     "metadata": {},
     "output_type": "execute_result"
    }
   ],
   "source": [
    "np.sqrt(pcov)"
   ]
  },
  {
   "cell_type": "code",
   "execution_count": 21,
   "id": "5a475169",
   "metadata": {},
   "outputs": [
    {
     "data": {
      "text/plain": [
       "15"
      ]
     },
     "execution_count": 21,
     "metadata": {},
     "output_type": "execute_result"
    }
   ],
   "source": [
    "len(GV)"
   ]
  },
  {
   "cell_type": "code",
   "execution_count": 36,
   "id": "ebe14d00",
   "metadata": {},
   "outputs": [
    {
     "data": {
      "image/png": "[encoded data removed]",
      "text/plain": [
       "<Figure size 648x360 with 2 Axes>"
      ]
     },
     "metadata": {
      "needs_background": "light"
     },
     "output_type": "display_data"
    }
   ],
   "source": [
    "GVarray = np.linspace(min(GV), max(GV),1000)\n",
    "fig, ax = plt.subplots(2,1,figsize = [9,5],sharex = True,gridspec_kw={'height_ratios': [2, 1]})\n",
    "ax[0].errorbar(GV,alphaEn,xerr=2.5,yerr=alphaErr,fmt='.',capsize=3,label='Data')\n",
    "ax[0].plot(GVarray,cmEcalc(GVarray,*popt), label = r'Fit to expected $\\alpha$ energy with'+ '\\n' +'proton energy being a$\\cdot$GV')\n",
    "ax[1].set_xlabel('Generating voltage [kV]')\n",
    "plt.subplots_adjust(wspace=0, hspace=0)\n",
    "ax[0].set_ylabel(r'$\\alpha_0$ CM energy [keV]')\n",
    "ax[0].legend()\n",
    "ax[1].set_ylabel('Residuals [keV]')\n",
    "ax[1].plot(GV,alphaEn-cmEcalc(GV,*popt),'.')\n",
    "ax[0].set_title(r'Accelerator calibration with $\\alpha_0$')\n",
    "#fig.savefig('AccCal.png',dpi=300,facecolor='white', transparent=False)"
   ]
  },
  {
   "cell_type": "code",
   "execution_count": 23,
   "id": "64f289cd",
   "metadata": {},
   "outputs": [
    {
     "data": {
      "text/plain": [
       "array([[0.00155888]])"
      ]
     },
     "execution_count": 23,
     "metadata": {},
     "output_type": "execute_result"
    }
   ],
   "source": [
    "np.sqrt(pcov)"
   ]
  },
  {
   "cell_type": "code",
   "execution_count": 24,
   "id": "1e6979d2",
   "metadata": {},
   "outputs": [
    {
     "data": {
      "text/plain": [
       "array([ 813.        ,  814.75275275,  816.50550551,  818.25825826,\n",
       "        820.01101101,  821.76376376,  823.51651652,  825.26926927,\n",
       "        827.02202202,  828.77477477,  830.52752753,  832.28028028,\n",
       "        834.03303303,  835.78578579,  837.53853854,  839.29129129,\n",
       "        841.04404404,  842.7967968 ,  844.54954955,  846.3023023 ,\n",
       "        848.05505506,  849.80780781,  851.56056056,  853.31331331,\n",
       "        855.06606607,  856.81881882,  858.57157157,  860.32432432,\n",
       "        862.07707708,  863.82982983,  865.58258258,  867.33533534,\n",
       "        869.08808809,  870.84084084,  872.59359359,  874.34634635,\n",
       "        876.0990991 ,  877.85185185,  879.6046046 ,  881.35735736,\n",
       "        883.11011011,  884.86286286,  886.61561562,  888.36836837,\n",
       "        890.12112112,  891.87387387,  893.62662663,  895.37937938,\n",
       "        897.13213213,  898.88488488,  900.63763764,  902.39039039,\n",
       "        904.14314314,  905.8958959 ,  907.64864865,  909.4014014 ,\n",
       "        911.15415415,  912.90690691,  914.65965966,  916.41241241,\n",
       "        918.16516517,  919.91791792,  921.67067067,  923.42342342,\n",
       "        925.17617618,  926.92892893,  928.68168168,  930.43443443,\n",
       "        932.18718719,  933.93993994,  935.69269269,  937.44544545,\n",
       "        939.1981982 ,  940.95095095,  942.7037037 ,  944.45645646,\n",
       "        946.20920921,  947.96196196,  949.71471471,  951.46746747,\n",
       "        953.22022022,  954.97297297,  956.72572573,  958.47847848,\n",
       "        960.23123123,  961.98398398,  963.73673674,  965.48948949,\n",
       "        967.24224224,  968.99499499,  970.74774775,  972.5005005 ,\n",
       "        974.25325325,  976.00600601,  977.75875876,  979.51151151,\n",
       "        981.26426426,  983.01701702,  984.76976977,  986.52252252,\n",
       "        988.27527528,  990.02802803,  991.78078078,  993.53353353,\n",
       "        995.28628629,  997.03903904,  998.79179179, 1000.54454454,\n",
       "       1002.2972973 , 1004.05005005, 1005.8028028 , 1007.55555556,\n",
       "       1009.30830831, 1011.06106106, 1012.81381381, 1014.56656657,\n",
       "       1016.31931932, 1018.07207207, 1019.82482482, 1021.57757758,\n",
       "       1023.33033033, 1025.08308308, 1026.83583584, 1028.58858859,\n",
       "       1030.34134134, 1032.09409409, 1033.84684685, 1035.5995996 ,\n",
       "       1037.35235235, 1039.10510511, 1040.85785786, 1042.61061061,\n",
       "       1044.36336336, 1046.11611612, 1047.86886887, 1049.62162162,\n",
       "       1051.37437437, 1053.12712713, 1054.87987988, 1056.63263263,\n",
       "       1058.38538539, 1060.13813814, 1061.89089089, 1063.64364364,\n",
       "       1065.3963964 , 1067.14914915, 1068.9019019 , 1070.65465465,\n",
       "       1072.40740741, 1074.16016016, 1075.91291291, 1077.66566567,\n",
       "       1079.41841842, 1081.17117117, 1082.92392392, 1084.67667668,\n",
       "       1086.42942943, 1088.18218218, 1089.93493493, 1091.68768769,\n",
       "       1093.44044044, 1095.19319319, 1096.94594595, 1098.6986987 ,\n",
       "       1100.45145145, 1102.2042042 , 1103.95695696, 1105.70970971,\n",
       "       1107.46246246, 1109.21521522, 1110.96796797, 1112.72072072,\n",
       "       1114.47347347, 1116.22622623, 1117.97897898, 1119.73173173,\n",
       "       1121.48448448, 1123.23723724, 1124.98998999, 1126.74274274,\n",
       "       1128.4954955 , 1130.24824825, 1132.001001  , 1133.75375375,\n",
       "       1135.50650651, 1137.25925926, 1139.01201201, 1140.76476476,\n",
       "       1142.51751752, 1144.27027027, 1146.02302302, 1147.77577578,\n",
       "       1149.52852853, 1151.28128128, 1153.03403403, 1154.78678679,\n",
       "       1156.53953954, 1158.29229229, 1160.04504505, 1161.7977978 ,\n",
       "       1163.55055055, 1165.3033033 , 1167.05605606, 1168.80880881,\n",
       "       1170.56156156, 1172.31431431, 1174.06706707, 1175.81981982,\n",
       "       1177.57257257, 1179.32532533, 1181.07807808, 1182.83083083,\n",
       "       1184.58358358, 1186.33633634, 1188.08908909, 1189.84184184,\n",
       "       1191.59459459, 1193.34734735, 1195.1001001 , 1196.85285285,\n",
       "       1198.60560561, 1200.35835836, 1202.11111111, 1203.86386386,\n",
       "       1205.61661662, 1207.36936937, 1209.12212212, 1210.87487487,\n",
       "       1212.62762763, 1214.38038038, 1216.13313313, 1217.88588589,\n",
       "       1219.63863864, 1221.39139139, 1223.14414414, 1224.8968969 ,\n",
       "       1226.64964965, 1228.4024024 , 1230.15515516, 1231.90790791,\n",
       "       1233.66066066, 1235.41341341, 1237.16616617, 1238.91891892,\n",
       "       1240.67167167, 1242.42442442, 1244.17717718, 1245.92992993,\n",
       "       1247.68268268, 1249.43543544, 1251.18818819, 1252.94094094,\n",
       "       1254.69369369, 1256.44644645, 1258.1991992 , 1259.95195195,\n",
       "       1261.7047047 , 1263.45745746, 1265.21021021, 1266.96296296,\n",
       "       1268.71571572, 1270.46846847, 1272.22122122, 1273.97397397,\n",
       "       1275.72672673, 1277.47947948, 1279.23223223, 1280.98498498,\n",
       "       1282.73773774, 1284.49049049, 1286.24324324, 1287.995996  ,\n",
       "       1289.74874875, 1291.5015015 , 1293.25425425, 1295.00700701,\n",
       "       1296.75975976, 1298.51251251, 1300.26526527, 1302.01801802,\n",
       "       1303.77077077, 1305.52352352, 1307.27627628, 1309.02902903,\n",
       "       1310.78178178, 1312.53453453, 1314.28728729, 1316.04004004,\n",
       "       1317.79279279, 1319.54554555, 1321.2982983 , 1323.05105105,\n",
       "       1324.8038038 , 1326.55655656, 1328.30930931, 1330.06206206,\n",
       "       1331.81481481, 1333.56756757, 1335.32032032, 1337.07307307,\n",
       "       1338.82582583, 1340.57857858, 1342.33133133, 1344.08408408,\n",
       "       1345.83683684, 1347.58958959, 1349.34234234, 1351.0950951 ,\n",
       "       1352.84784785, 1354.6006006 , 1356.35335335, 1358.10610611,\n",
       "       1359.85885886, 1361.61161161, 1363.36436436, 1365.11711712,\n",
       "       1366.86986987, 1368.62262262, 1370.37537538, 1372.12812813,\n",
       "       1373.88088088, 1375.63363363, 1377.38638639, 1379.13913914,\n",
       "       1380.89189189, 1382.64464464, 1384.3973974 , 1386.15015015,\n",
       "       1387.9029029 , 1389.65565566, 1391.40840841, 1393.16116116,\n",
       "       1394.91391391, 1396.66666667, 1398.41941942, 1400.17217217,\n",
       "       1401.92492492, 1403.67767768, 1405.43043043, 1407.18318318,\n",
       "       1408.93593594, 1410.68868869, 1412.44144144, 1414.19419419,\n",
       "       1415.94694695, 1417.6996997 , 1419.45245245, 1421.20520521,\n",
       "       1422.95795796, 1424.71071071, 1426.46346346, 1428.21621622,\n",
       "       1429.96896897, 1431.72172172, 1433.47447447, 1435.22722723,\n",
       "       1436.97997998, 1438.73273273, 1440.48548549, 1442.23823824,\n",
       "       1443.99099099, 1445.74374374, 1447.4964965 , 1449.24924925,\n",
       "       1451.002002  , 1452.75475475, 1454.50750751, 1456.26026026,\n",
       "       1458.01301301, 1459.76576577, 1461.51851852, 1463.27127127,\n",
       "       1465.02402402, 1466.77677678, 1468.52952953, 1470.28228228,\n",
       "       1472.03503504, 1473.78778779, 1475.54054054, 1477.29329329,\n",
       "       1479.04604605, 1480.7987988 , 1482.55155155, 1484.3043043 ,\n",
       "       1486.05705706, 1487.80980981, 1489.56256256, 1491.31531532,\n",
       "       1493.06806807, 1494.82082082, 1496.57357357, 1498.32632633,\n",
       "       1500.07907908, 1501.83183183, 1503.58458458, 1505.33733734,\n",
       "       1507.09009009, 1508.84284284, 1510.5955956 , 1512.34834835,\n",
       "       1514.1011011 , 1515.85385385, 1517.60660661, 1519.35935936,\n",
       "       1521.11211211, 1522.86486486, 1524.61761762, 1526.37037037,\n",
       "       1528.12312312, 1529.87587588, 1531.62862863, 1533.38138138,\n",
       "       1535.13413413, 1536.88688689, 1538.63963964, 1540.39239239,\n",
       "       1542.14514515, 1543.8978979 , 1545.65065065, 1547.4034034 ,\n",
       "       1549.15615616, 1550.90890891, 1552.66166166, 1554.41441441,\n",
       "       1556.16716717, 1557.91991992, 1559.67267267, 1561.42542543,\n",
       "       1563.17817818, 1564.93093093, 1566.68368368, 1568.43643644,\n",
       "       1570.18918919, 1571.94194194, 1573.69469469, 1575.44744745,\n",
       "       1577.2002002 , 1578.95295295, 1580.70570571, 1582.45845846,\n",
       "       1584.21121121, 1585.96396396, 1587.71671672, 1589.46946947,\n",
       "       1591.22222222, 1592.97497497, 1594.72772773, 1596.48048048,\n",
       "       1598.23323323, 1599.98598599, 1601.73873874, 1603.49149149,\n",
       "       1605.24424424, 1606.996997  , 1608.74974975, 1610.5025025 ,\n",
       "       1612.25525526, 1614.00800801, 1615.76076076, 1617.51351351,\n",
       "       1619.26626627, 1621.01901902, 1622.77177177, 1624.52452452,\n",
       "       1626.27727728, 1628.03003003, 1629.78278278, 1631.53553554,\n",
       "       1633.28828829, 1635.04104104, 1636.79379379, 1638.54654655,\n",
       "       1640.2992993 , 1642.05205205, 1643.8048048 , 1645.55755756,\n",
       "       1647.31031031, 1649.06306306, 1650.81581582, 1652.56856857,\n",
       "       1654.32132132, 1656.07407407, 1657.82682683, 1659.57957958,\n",
       "       1661.33233233, 1663.08508509, 1664.83783784, 1666.59059059,\n",
       "       1668.34334334, 1670.0960961 , 1671.84884885, 1673.6016016 ,\n",
       "       1675.35435435, 1677.10710711, 1678.85985986, 1680.61261261,\n",
       "       1682.36536537, 1684.11811812, 1685.87087087, 1687.62362362,\n",
       "       1689.37637638, 1691.12912913, 1692.88188188, 1694.63463463,\n",
       "       1696.38738739, 1698.14014014, 1699.89289289, 1701.64564565,\n",
       "       1703.3983984 , 1705.15115115, 1706.9039039 , 1708.65665666,\n",
       "       1710.40940941, 1712.16216216, 1713.91491491, 1715.66766767,\n",
       "       1717.42042042, 1719.17317317, 1720.92592593, 1722.67867868,\n",
       "       1724.43143143, 1726.18418418, 1727.93693694, 1729.68968969,\n",
       "       1731.44244244, 1733.1951952 , 1734.94794795, 1736.7007007 ,\n",
       "       1738.45345345, 1740.20620621, 1741.95895896, 1743.71171171,\n",
       "       1745.46446446, 1747.21721722, 1748.96996997, 1750.72272272,\n",
       "       1752.47547548, 1754.22822823, 1755.98098098, 1757.73373373,\n",
       "       1759.48648649, 1761.23923924, 1762.99199199, 1764.74474474,\n",
       "       1766.4974975 , 1768.25025025, 1770.003003  , 1771.75575576,\n",
       "       1773.50850851, 1775.26126126, 1777.01401401, 1778.76676677,\n",
       "       1780.51951952, 1782.27227227, 1784.02502503, 1785.77777778,\n",
       "       1787.53053053, 1789.28328328, 1791.03603604, 1792.78878879,\n",
       "       1794.54154154, 1796.29429429, 1798.04704705, 1799.7997998 ,\n",
       "       1801.55255255, 1803.30530531, 1805.05805806, 1806.81081081,\n",
       "       1808.56356356, 1810.31631632, 1812.06906907, 1813.82182182,\n",
       "       1815.57457457, 1817.32732733, 1819.08008008, 1820.83283283,\n",
       "       1822.58558559, 1824.33833834, 1826.09109109, 1827.84384384,\n",
       "       1829.5965966 , 1831.34934935, 1833.1021021 , 1834.85485485,\n",
       "       1836.60760761, 1838.36036036, 1840.11311311, 1841.86586587,\n",
       "       1843.61861862, 1845.37137137, 1847.12412412, 1848.87687688,\n",
       "       1850.62962963, 1852.38238238, 1854.13513514, 1855.88788789,\n",
       "       1857.64064064, 1859.39339339, 1861.14614615, 1862.8988989 ,\n",
       "       1864.65165165, 1866.4044044 , 1868.15715716, 1869.90990991,\n",
       "       1871.66266266, 1873.41541542, 1875.16816817, 1876.92092092,\n",
       "       1878.67367367, 1880.42642643, 1882.17917918, 1883.93193193,\n",
       "       1885.68468468, 1887.43743744, 1889.19019019, 1890.94294294,\n",
       "       1892.6956957 , 1894.44844845, 1896.2012012 , 1897.95395395,\n",
       "       1899.70670671, 1901.45945946, 1903.21221221, 1904.96496496,\n",
       "       1906.71771772, 1908.47047047, 1910.22322322, 1911.97597598,\n",
       "       1913.72872873, 1915.48148148, 1917.23423423, 1918.98698699,\n",
       "       1920.73973974, 1922.49249249, 1924.24524525, 1925.997998  ,\n",
       "       1927.75075075, 1929.5035035 , 1931.25625626, 1933.00900901,\n",
       "       1934.76176176, 1936.51451451, 1938.26726727, 1940.02002002,\n",
       "       1941.77277277, 1943.52552553, 1945.27827828, 1947.03103103,\n",
       "       1948.78378378, 1950.53653654, 1952.28928929, 1954.04204204,\n",
       "       1955.79479479, 1957.54754755, 1959.3003003 , 1961.05305305,\n",
       "       1962.80580581, 1964.55855856, 1966.31131131, 1968.06406406,\n",
       "       1969.81681682, 1971.56956957, 1973.32232232, 1975.07507508,\n",
       "       1976.82782783, 1978.58058058, 1980.33333333, 1982.08608609,\n",
       "       1983.83883884, 1985.59159159, 1987.34434434, 1989.0970971 ,\n",
       "       1990.84984985, 1992.6026026 , 1994.35535536, 1996.10810811,\n",
       "       1997.86086086, 1999.61361361, 2001.36636637, 2003.11911912,\n",
       "       2004.87187187, 2006.62462462, 2008.37737738, 2010.13013013,\n",
       "       2011.88288288, 2013.63563564, 2015.38838839, 2017.14114114,\n",
       "       2018.89389389, 2020.64664665, 2022.3993994 , 2024.15215215,\n",
       "       2025.9049049 , 2027.65765766, 2029.41041041, 2031.16316316,\n",
       "       2032.91591592, 2034.66866867, 2036.42142142, 2038.17417417,\n",
       "       2039.92692693, 2041.67967968, 2043.43243243, 2045.18518519,\n",
       "       2046.93793794, 2048.69069069, 2050.44344344, 2052.1961962 ,\n",
       "       2053.94894895, 2055.7017017 , 2057.45445445, 2059.20720721,\n",
       "       2060.95995996, 2062.71271271, 2064.46546547, 2066.21821822,\n",
       "       2067.97097097, 2069.72372372, 2071.47647648, 2073.22922923,\n",
       "       2074.98198198, 2076.73473473, 2078.48748749, 2080.24024024,\n",
       "       2081.99299299, 2083.74574575, 2085.4984985 , 2087.25125125,\n",
       "       2089.004004  , 2090.75675676, 2092.50950951, 2094.26226226,\n",
       "       2096.01501502, 2097.76776777, 2099.52052052, 2101.27327327,\n",
       "       2103.02602603, 2104.77877878, 2106.53153153, 2108.28428428,\n",
       "       2110.03703704, 2111.78978979, 2113.54254254, 2115.2952953 ,\n",
       "       2117.04804805, 2118.8008008 , 2120.55355355, 2122.30630631,\n",
       "       2124.05905906, 2125.81181181, 2127.56456456, 2129.31731732,\n",
       "       2131.07007007, 2132.82282282, 2134.57557558, 2136.32832833,\n",
       "       2138.08108108, 2139.83383383, 2141.58658659, 2143.33933934,\n",
       "       2145.09209209, 2146.84484484, 2148.5975976 , 2150.35035035,\n",
       "       2152.1031031 , 2153.85585586, 2155.60860861, 2157.36136136,\n",
       "       2159.11411411, 2160.86686687, 2162.61961962, 2164.37237237,\n",
       "       2166.12512513, 2167.87787788, 2169.63063063, 2171.38338338,\n",
       "       2173.13613614, 2174.88888889, 2176.64164164, 2178.39439439,\n",
       "       2180.14714715, 2181.8998999 , 2183.65265265, 2185.40540541,\n",
       "       2187.15815816, 2188.91091091, 2190.66366366, 2192.41641642,\n",
       "       2194.16916917, 2195.92192192, 2197.67467467, 2199.42742743,\n",
       "       2201.18018018, 2202.93293293, 2204.68568569, 2206.43843844,\n",
       "       2208.19119119, 2209.94394394, 2211.6966967 , 2213.44944945,\n",
       "       2215.2022022 , 2216.95495495, 2218.70770771, 2220.46046046,\n",
       "       2222.21321321, 2223.96596597, 2225.71871872, 2227.47147147,\n",
       "       2229.22422422, 2230.97697698, 2232.72972973, 2234.48248248,\n",
       "       2236.23523524, 2237.98798799, 2239.74074074, 2241.49349349,\n",
       "       2243.24624625, 2244.998999  , 2246.75175175, 2248.5045045 ,\n",
       "       2250.25725726, 2252.01001001, 2253.76276276, 2255.51551552,\n",
       "       2257.26826827, 2259.02102102, 2260.77377377, 2262.52652653,\n",
       "       2264.27927928, 2266.03203203, 2267.78478478, 2269.53753754,\n",
       "       2271.29029029, 2273.04304304, 2274.7957958 , 2276.54854855,\n",
       "       2278.3013013 , 2280.05405405, 2281.80680681, 2283.55955956,\n",
       "       2285.31231231, 2287.06506507, 2288.81781782, 2290.57057057,\n",
       "       2292.32332332, 2294.07607608, 2295.82882883, 2297.58158158,\n",
       "       2299.33433433, 2301.08708709, 2302.83983984, 2304.59259259,\n",
       "       2306.34534535, 2308.0980981 , 2309.85085085, 2311.6036036 ,\n",
       "       2313.35635636, 2315.10910911, 2316.86186186, 2318.61461461,\n",
       "       2320.36736737, 2322.12012012, 2323.87287287, 2325.62562563,\n",
       "       2327.37837838, 2329.13113113, 2330.88388388, 2332.63663664,\n",
       "       2334.38938939, 2336.14214214, 2337.89489489, 2339.64764765,\n",
       "       2341.4004004 , 2343.15315315, 2344.90590591, 2346.65865866,\n",
       "       2348.41141141, 2350.16416416, 2351.91691692, 2353.66966967,\n",
       "       2355.42242242, 2357.17517518, 2358.92792793, 2360.68068068,\n",
       "       2362.43343343, 2364.18618619, 2365.93893894, 2367.69169169,\n",
       "       2369.44444444, 2371.1971972 , 2372.94994995, 2374.7027027 ,\n",
       "       2376.45545546, 2378.20820821, 2379.96096096, 2381.71371371,\n",
       "       2383.46646647, 2385.21921922, 2386.97197197, 2388.72472472,\n",
       "       2390.47747748, 2392.23023023, 2393.98298298, 2395.73573574,\n",
       "       2397.48848849, 2399.24124124, 2400.99399399, 2402.74674675,\n",
       "       2404.4994995 , 2406.25225225, 2408.00500501, 2409.75775776,\n",
       "       2411.51051051, 2413.26326326, 2415.01601602, 2416.76876877,\n",
       "       2418.52152152, 2420.27427427, 2422.02702703, 2423.77977978,\n",
       "       2425.53253253, 2427.28528529, 2429.03803804, 2430.79079079,\n",
       "       2432.54354354, 2434.2962963 , 2436.04904905, 2437.8018018 ,\n",
       "       2439.55455455, 2441.30730731, 2443.06006006, 2444.81281281,\n",
       "       2446.56556557, 2448.31831832, 2450.07107107, 2451.82382382,\n",
       "       2453.57657658, 2455.32932933, 2457.08208208, 2458.83483483,\n",
       "       2460.58758759, 2462.34034034, 2464.09309309, 2465.84584585,\n",
       "       2467.5985986 , 2469.35135135, 2471.1041041 , 2472.85685686,\n",
       "       2474.60960961, 2476.36236236, 2478.11511512, 2479.86786787,\n",
       "       2481.62062062, 2483.37337337, 2485.12612613, 2486.87887888,\n",
       "       2488.63163163, 2490.38438438, 2492.13713714, 2493.88988989,\n",
       "       2495.64264264, 2497.3953954 , 2499.14814815, 2500.9009009 ,\n",
       "       2502.65365365, 2504.40640641, 2506.15915916, 2507.91191191,\n",
       "       2509.66466466, 2511.41741742, 2513.17017017, 2514.92292292,\n",
       "       2516.67567568, 2518.42842843, 2520.18118118, 2521.93393393,\n",
       "       2523.68668669, 2525.43943944, 2527.19219219, 2528.94494494,\n",
       "       2530.6976977 , 2532.45045045, 2534.2032032 , 2535.95595596,\n",
       "       2537.70870871, 2539.46146146, 2541.21421421, 2542.96696697,\n",
       "       2544.71971972, 2546.47247247, 2548.22522523, 2549.97797798,\n",
       "       2551.73073073, 2553.48348348, 2555.23623624, 2556.98898899,\n",
       "       2558.74174174, 2560.49449449, 2562.24724725, 2564.        ])"
      ]
     },
     "execution_count": 24,
     "metadata": {},
     "output_type": "execute_result"
    }
   ],
   "source": [
    "GVarray"
   ]
  },
  {
   "cell_type": "code",
   "execution_count": null,
   "id": "841edee5",
   "metadata": {},
   "outputs": [],
   "source": []
  }
 ],
 "metadata": {
  "kernelspec": {
   "display_name": "Python 3 (ipykernel)",
   "language": "python",
   "name": "python3"
  },
  "language_info": {
   "codemirror_mode": {
    "name": "ipython",
    "version": 3
   },
   "file_extension": ".py",
   "mimetype": "text/x-python",
   "name": "python",
   "nbconvert_exporter": "python",
   "pygments_lexer": "ipython3",
   "version": "3.9.7"
  }
 },
 "nbformat": 4,
 "nbformat_minor": 5
}
