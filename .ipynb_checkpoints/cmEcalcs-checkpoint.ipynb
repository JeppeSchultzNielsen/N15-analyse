{
 "cells": [
  {
   "cell_type": "code",
   "execution_count": 1,
   "id": "5b7575df",
   "metadata": {},
   "outputs": [],
   "source": [
    "from os import listdir\n",
    "from os.path import isfile, join\n",
    "import re\n",
    "import numpy as np\n",
    "import matplotlib.pyplot as plt\n",
    "from scipy.optimize import curve_fit\n",
    "import math as math\n",
    "from scipy.optimize import minimize\n",
    "import scipy.stats as ss\n",
    "from scipy.signal import find_peaks \n",
    "from matplotlib import rc\n",
    "import codecs\n",
    "\n",
    "SMALL_SIZE = 14\n",
    "MEDIUM_SIZE = 16\n",
    "BIGGER_SIZE = 20\n",
    "\n",
    "plt.rc('text', usetex=True)\n",
    "plt.rc('font', family='serif')\n",
    "plt.rc('font', size=SMALL_SIZE)          # controls default text sizes\n",
    "plt.rc('axes', titlesize=BIGGER_SIZE)     # fontsize of the axes title\n",
    "plt.rc('axes', labelsize=MEDIUM_SIZE)    # fontsize of the x and y labels\n",
    "plt.rc('xtick', labelsize=SMALL_SIZE)    # fontsize of the tick labels\n",
    "plt.rc('ytick', labelsize=SMALL_SIZE)    # fontsize of the tick labels\n",
    "plt.rc('legend', fontsize=SMALL_SIZE)    # legend fontsize\n",
    "plt.rc('figure', titlesize=BIGGER_SIZE)  # fontsize of the figure title\n",
    "\n",
    "#en figur der fylder en kolonne har bredde 5,8, f.eks: fig, ax= plt.subplots(figsize=(5.8,4))\n",
    "#en figur der fylder to kolonner har dobbeltbredde??"
   ]
  },
  {
   "cell_type": "code",
   "execution_count": 2,
   "id": "98abd4bc",
   "metadata": {},
   "outputs": [],
   "source": [
    "#til at slå op i masses.dat\n",
    "data = np.transpose(np.loadtxt(\"masses.txt\"))\n",
    "\n",
    "N=data[0]\n",
    "Z=data[1]\n",
    "A=data[2]\n",
    "massExcess=data[3]\n",
    "bEPrNkl=data[4]\n",
    "\n",
    "mp = 938.272*1000\n",
    "me = 0.510998*1000\n",
    "mn = 939.565*1000\n",
    "\n",
    "def me2(a, z):\n",
    "    a_indices = np.where(A == a)\n",
    "    z_indices = np.where(Z == z)\n",
    "    a = lambda: print('Could not find mass excess for given numbers')\n",
    "    for i in range(len(a_indices[0])):\n",
    "        if np.any(z_indices[0] == a_indices[0][i]):\n",
    "            me = bEPrNkl[a_indices[0][i]]\n",
    "            a = lambda: me\n",
    "    return a()\n",
    "\n",
    "def m2(a,z): \n",
    "    return mp*z+(a-z)*mn-me2(a,z)*a"
   ]
  },
  {
   "cell_type": "code",
   "execution_count": 3,
   "id": "8ac00de5",
   "metadata": {},
   "outputs": [],
   "source": [
    "#data = np.transpose(np.loadtxt('accFit.txt', skiprows = 1))\n",
    "#energies = data[0]\n",
    "#expected = data[1]\n",
    "#measured = data[2]\n",
    "#gev = energies/1.17\n",
    "\n",
    "mp = 938272.08816\n",
    "mAl = m2(27,13)\n",
    "mO = m2(16,8)\n",
    "mN16 = m2(16,7)\n",
    "mC13 = m2(13,6)\n",
    "mO17 = m2(17,8)\n",
    "mO18 = m2(18,8)\n",
    "mN15 = m2(15,7)\n",
    "mN14 = m2(14,7)\n",
    "mN = m2(15,7)\n",
    "mC = m2(12,6)\n",
    "mHe = m2(4,2)\n",
    "mF = m2(19,9)"
   ]
  },
  {
   "cell_type": "code",
   "execution_count": 4,
   "id": "d0a4d13d",
   "metadata": {},
   "outputs": [
    {
     "data": {
      "text/plain": [
       "195131081674493.56"
      ]
     },
     "execution_count": 4,
     "metadata": {},
     "output_type": "execute_result"
    }
   ],
   "source": [
    "mN**2"
   ]
  },
  {
   "cell_type": "code",
   "execution_count": 5,
   "id": "bc153fc0",
   "metadata": {},
   "outputs": [],
   "source": [
    "def cmEcalc(accE,mb,mt,ml,ms):\n",
    "    beta = np.sqrt(((accE+mb)**2-mb**2))/(accE+mb+mt)\n",
    "    pz = np.sqrt((accE+mb)**2-mb**2)\n",
    "    en = accE + mb + mt\n",
    "    gamma = 1/np.sqrt(1-beta**2)\n",
    "    pzCM = gamma*(pz - beta*en)\n",
    "    enCM = gamma*(en - beta*pz)\n",
    "    return (enCM**2+ms**2-ml**2)/(2*enCM)-ms"
   ]
  },
  {
   "cell_type": "code",
   "execution_count": 6,
   "id": "e2b94db3",
   "metadata": {},
   "outputs": [],
   "source": [
    "def cmE(gev,a):\n",
    "    accE = a*gev\n",
    "    beta = np.sqrt(((accE+mp)**2-mp**2))/(accE+mp+mAl)\n",
    "    pz = np.sqrt((accE+mp)**2-mp**2)\n",
    "    en = accE + mp + mAl\n",
    "    gamma = 1/np.sqrt(1-beta**2)\n",
    "    pzCM = gamma*(pz - beta*en)\n",
    "    enCM = gamma*(en - beta*pz)\n",
    "    return (enCM**2+mp**2-mAl**2)/(2*enCM)-mp"
   ]
  },
  {
   "cell_type": "code",
   "execution_count": 7,
   "id": "2a45ebba",
   "metadata": {},
   "outputs": [
    {
     "data": {
      "text/plain": [
       "1859.1163260308094"
      ]
     },
     "execution_count": 7,
     "metadata": {},
     "output_type": "execute_result"
    }
   ],
   "source": [
    "cmE(1710,1.17)"
   ]
  },
  {
   "cell_type": "code",
   "execution_count": 8,
   "id": "9e1cc970",
   "metadata": {},
   "outputs": [
    {
     "data": {
      "text/plain": [
       "5124.897386885248"
      ]
     },
     "execution_count": 8,
     "metadata": {},
     "output_type": "execute_result"
    }
   ],
   "source": [
    "cmEcalc(1710*1.167,mp,mN15,mC,mHe)"
   ]
  },
  {
   "cell_type": "code",
   "execution_count": 9,
   "id": "9e2f4cad",
   "metadata": {},
   "outputs": [
    {
     "data": {
      "text/plain": [
       "3786.2357718772255"
      ]
     },
     "execution_count": 9,
     "metadata": {},
     "output_type": "execute_result"
    }
   ],
   "source": [
    "cmEcalc(77*1.167,mp,mN15,mC,mHe)"
   ]
  },
  {
   "cell_type": "code",
   "execution_count": 13,
   "id": "4343511b",
   "metadata": {},
   "outputs": [],
   "source": [
    "#gamma-overgang fra 13,091 (880 GV) til 8.87 MeV er tab på 4.221\n",
    "#gamma-overgang fra 13,262 (1034 GV) til 8.87 er tab på 4,392\n",
    "#gamma-overgang i C12 er tab på 4.43 MeV\n",
    "#fra 12,97 (771 GV) til 8.87 er tab 4100 keV\n",
    "#fra 12.97 til 9.58 er 3390\n",
    "#fra 12.97 til 9.844 er 3126\n",
    "\n",
    "def cmEcalcGamma(accE,mb,mt,ml,ms):\n",
    "    beta = np.sqrt(((accE+mb)**2-mb**2))/(accE+mb+mt)\n",
    "    pz = np.sqrt((accE+mb)**2-mb**2)\n",
    "    en = accE + mb + mt\n",
    "    gamma = 1/np.sqrt(1-beta**2)\n",
    "    pzCM = gamma*(pz - beta*en)\n",
    "    enCM = gamma*(en - beta*pz)-3390\n",
    "    return (enCM**2+ms**2-ml**2)/(2*enCM)-ms"
   ]
  },
  {
   "cell_type": "code",
   "execution_count": 14,
   "id": "27f4c2a8",
   "metadata": {},
   "outputs": [
    {
     "data": {
      "text/plain": [
       "634.592644976452"
      ]
     },
     "execution_count": 14,
     "metadata": {},
     "output_type": "execute_result"
    }
   ],
   "source": [
    "cmEcalcGamma(879*1.167,mp,mN15,mHe,mC)"
   ]
  },
  {
   "cell_type": "code",
   "execution_count": 15,
   "id": "37c40efb",
   "metadata": {},
   "outputs": [
    {
     "data": {
      "text/plain": [
       "1813.5602792617865"
      ]
     },
     "execution_count": 15,
     "metadata": {},
     "output_type": "execute_result"
    }
   ],
   "source": [
    "cmEcalcGamma(771*1.167,mp,mN15,mC,mHe)"
   ]
  },
  {
   "cell_type": "code",
   "execution_count": 65,
   "id": "8600dcf5",
   "metadata": {},
   "outputs": [
    {
     "data": {
      "text/plain": [
       "-7776.684829343156"
      ]
     },
     "execution_count": 65,
     "metadata": {},
     "output_type": "execute_result"
    }
   ],
   "source": [
    "(m2(7,3)+m2(4,2) - m2(11,5)-11490)*(m2(7,3)+m2(4,2))/m2(4,2)"
   ]
  },
  {
   "cell_type": "code",
   "execution_count": 5,
   "id": "82e5423b",
   "metadata": {},
   "outputs": [
    {
     "data": {
      "text/plain": [
       "1858.501338620088"
      ]
     },
     "execution_count": 5,
     "metadata": {},
     "output_type": "execute_result"
    }
   ],
   "source": [
    "accE = 2000\n",
    "beta = np.sqrt(((accE+mp)**2-mp**2))/(accE+mp+mAl)\n",
    "pz = np.sqrt((accE+mp)**2-mp**2)\n",
    "en = accE + mp + mAl\n",
    "gamma = 1/np.sqrt(1-beta**2)\n",
    "pzCM = gamma*(pz - beta*en)\n",
    "enCM = gamma*(en - beta*pz)\n",
    "(enCM**2+mp**2-mAl**2)/(2*enCM)-mp"
   ]
  },
  {
   "cell_type": "code",
   "execution_count": 4,
   "id": "5f86fda3",
   "metadata": {},
   "outputs": [
    {
     "data": {
      "text/plain": [
       "[<matplotlib.lines.Line2D at 0x7fc1c9031a30>]"
      ]
     },
     "execution_count": 4,
     "metadata": {},
     "output_type": "execute_result"
    },
    {
     "data": {
      "image/png": "[encoded data removed]",
      "text/plain": [
       "<Figure size 432x288 with 1 Axes>"
      ]
     },
     "metadata": {
      "needs_background": "light"
     },
     "output_type": "display_data"
    }
   ],
   "source": [
    "accEs = np.linspace(1500,3500,1000)/1.17\n",
    "plt.plot(accEs,cmE(accEs,1.17))\n",
    "plt.plot(gev,measured,'.')"
   ]
  },
  {
   "cell_type": "code",
   "execution_count": 11,
   "id": "f05964da",
   "metadata": {},
   "outputs": [
    {
     "data": {
      "text/plain": [
       "<matplotlib.legend.Legend at 0x7fc1c84539a0>"
      ]
     },
     "execution_count": 11,
     "metadata": {},
     "output_type": "execute_result"
    },
    {
     "data": {
      "image/png": "[encoded data removed]",
      "text/plain": [
       "<Figure size 576x576 with 1 Axes>"
      ]
     },
     "metadata": {
      "needs_background": "light"
     },
     "output_type": "display_data"
    }
   ],
   "source": [
    "popt, pcov = curve_fit(cmE, gev, measured)\n",
    "\n",
    "gvElinspace = np.linspace(1500,3500,1000)/1.17\n",
    "fig, ax = plt.subplots(figsize = [8,8])\n",
    "ax.plot(gev,measured,'.', label = 'Data')\n",
    "ax.plot(gvElinspace,cmE(gvElinspace,*popt), label = r'y = a $\\cdot$ x with a=' + str(np.round(popt[0],4)))# + \", b=\" + str(np.round(popt[1],4)))\n",
    "ax.set_xlabel('GV energy [keV]')\n",
    "ax.set_ylabel('Fitted accelerator energy [keV]')\n",
    "ax.legend()"
   ]
  },
  {
   "cell_type": "code",
   "execution_count": null,
   "id": "0d57137c",
   "metadata": {},
   "outputs": [],
   "source": []
  }
 ],
 "metadata": {
  "kernelspec": {
   "display_name": "Python 3 (ipykernel)",
   "language": "python",
   "name": "python3"
  },
  "language_info": {
   "codemirror_mode": {
    "name": "ipython",
    "version": 3
   },
   "file_extension": ".py",
   "mimetype": "text/x-python",
   "name": "python",
   "nbconvert_exporter": "python",
   "pygments_lexer": "ipython3",
   "version": "3.9.7"
  }
 },
 "nbformat": 4,
 "nbformat_minor": 5
}
