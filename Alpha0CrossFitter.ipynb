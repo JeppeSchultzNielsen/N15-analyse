{
 "cells": [
  {
   "cell_type": "code",
   "execution_count": 1,
   "id": "3e628973",
   "metadata": {},
   "outputs": [],
   "source": [
    "import numpy as np\n",
    "import matplotlib.pyplot as plt\n",
    "from scipy.optimize import curve_fit\n",
    "import math as math\n",
    "from scipy.optimize import minimize\n",
    "import scipy.stats as ss\n",
    "from scipy.signal import find_peaks \n",
    "from matplotlib import rc\n",
    "from scipy.optimize import fsolve\n",
    "\n",
    "SMALL_SIZE = 16\n",
    "MEDIUM_SIZE = 18\n",
    "BIGGER_SIZE = 24\n",
    "\n",
    "plt.rc('text', usetex=True)\n",
    "plt.rc('font', family='serif')\n",
    "plt.rc('font', size=SMALL_SIZE)          # controls default text sizes\n",
    "plt.rc('axes', titlesize=BIGGER_SIZE)     # fontsize of the axes title\n",
    "plt.rc('axes', labelsize=MEDIUM_SIZE)    # fontsize of the x and y labels\n",
    "plt.rc('xtick', labelsize=SMALL_SIZE)    # fontsize of the tick labels\n",
    "plt.rc('ytick', labelsize=SMALL_SIZE)    # fontsize of the tick labels\n",
    "plt.rc('legend', fontsize=SMALL_SIZE)    # legend fontsize\n",
    "plt.rc('figure', titlesize=BIGGER_SIZE)  # fontsize of the figure title\n",
    "\n",
    "#en figur der fylder en kolonne har bredde 5,8, f.eks: fig, ax= plt.subplots(figsize=(5.8,4))\n",
    "#en figur der fylder to kolonner har dobbeltbredde??"
   ]
  },
  {
   "cell_type": "code",
   "execution_count": 15,
   "id": "846581ae",
   "metadata": {},
   "outputs": [],
   "source": [
    "data = np.transpose(np.loadtxt('Alpha0Cross.txt', skiprows=1))\n",
    "data = data[:14]\n",
    "GV = data[0]\n",
    "counts = data[1]\n",
    "countsErr = data[2]\n",
    "VCharge = data[3] #fra kalibrering\n",
    "VCharge*5.85e7\n",
    "solid = data[4]"
   ]
  },
  {
   "cell_type": "code",
   "execution_count": 16,
   "id": "77fba3a0",
   "metadata": {},
   "outputs": [
    {
     "name": "stderr",
     "output_type": "stream",
     "text": [
      "/tmp/ipykernel_4006/1609732442.py:3: RuntimeWarning: invalid value encountered in true_divide\n",
      "  cross = counts / VCharge\n"
     ]
    }
   ],
   "source": [
    "#med 1.57c i NPP\n",
    "#N_reactions = N_shot * (rho*thickness) * avogrados tal / atomic mass * cross\n",
    "cross = counts / VCharge"
   ]
  },
  {
   "cell_type": "code",
   "execution_count": 18,
   "id": "d5cf6ef5",
   "metadata": {},
   "outputs": [
    {
     "data": {
      "text/plain": [
       "[<matplotlib.lines.Line2D at 0x7f125e372df0>]"
      ]
     },
     "execution_count": 18,
     "metadata": {},
     "output_type": "execute_result"
    },
    {
     "data": {
      "image/png": "[encoded data removed]",
      "text/plain": [
       "<Figure size 432x288 with 1 Axes>"
      ]
     },
     "metadata": {
      "needs_background": "light"
     },
     "output_type": "display_data"
    }
   ],
   "source": [
    "plt.plot(GV,cross,'.')"
   ]
  },
  {
   "cell_type": "code",
   "execution_count": 14,
   "id": "249ced69",
   "metadata": {},
   "outputs": [
    {
     "data": {
      "text/plain": [
       "array([2.52372744e+14, 2.70149373e+14, 2.05732566e+14, 1.95716020e+14,\n",
       "       2.27417990e+14, 8.20707030e+13, 2.81628243e+14, 1.99495004e+14,\n",
       "       2.36823034e+14, 2.20243550e+14, 2.30171643e+14, 4.21527600e+12,\n",
       "       8.00420400e+13, 2.12908410e+14, 0.00000000e+00, 0.00000000e+00,\n",
       "       0.00000000e+00])"
      ]
     },
     "execution_count": 14,
     "metadata": {},
     "output_type": "execute_result"
    }
   ],
   "source": [
    "VCharge*5.85e7"
   ]
  },
  {
   "cell_type": "code",
   "execution_count": null,
   "id": "82b2431f",
   "metadata": {},
   "outputs": [],
   "source": []
  }
 ],
 "metadata": {
  "kernelspec": {
   "display_name": "Python 3 (ipykernel)",
   "language": "python",
   "name": "python3"
  },
  "language_info": {
   "codemirror_mode": {
    "name": "ipython",
    "version": 3
   },
   "file_extension": ".py",
   "mimetype": "text/x-python",
   "name": "python",
   "nbconvert_exporter": "python",
   "pygments_lexer": "ipython3",
   "version": "3.9.7"
  }
 },
 "nbformat": 4,
 "nbformat_minor": 5
}
