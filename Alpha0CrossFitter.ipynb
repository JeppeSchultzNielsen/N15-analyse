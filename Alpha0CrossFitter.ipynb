{
 "cells": [
  {
   "cell_type": "code",
   "execution_count": 1,
   "id": "3e628973",
   "metadata": {},
   "outputs": [],
   "source": [
    "import numpy as np\n",
    "import matplotlib.pyplot as plt\n",
    "from scipy.optimize import curve_fit\n",
    "import math as math\n",
    "from scipy.optimize import minimize\n",
    "import scipy.stats as ss\n",
    "from scipy.signal import find_peaks \n",
    "from matplotlib import rc\n",
    "from scipy.optimize import fsolve\n",
    "\n",
    "SMALL_SIZE = 16\n",
    "MEDIUM_SIZE = 18\n",
    "BIGGER_SIZE = 24\n",
    "\n",
    "plt.rc('text', usetex=True)\n",
    "plt.rc('font', family='serif')\n",
    "plt.rc('font', size=SMALL_SIZE)          # controls default text sizes\n",
    "plt.rc('axes', titlesize=BIGGER_SIZE)     # fontsize of the axes title\n",
    "plt.rc('axes', labelsize=MEDIUM_SIZE)    # fontsize of the x and y labels\n",
    "plt.rc('xtick', labelsize=SMALL_SIZE)    # fontsize of the tick labels\n",
    "plt.rc('ytick', labelsize=SMALL_SIZE)    # fontsize of the tick labels\n",
    "plt.rc('legend', fontsize=SMALL_SIZE)    # legend fontsize\n",
    "plt.rc('figure', titlesize=BIGGER_SIZE)  # fontsize of the figure title\n",
    "\n",
    "#en figur der fylder en kolonne har bredde 5,8, f.eks: fig, ax= plt.subplots(figsize=(5.8,4))\n",
    "#en figur der fylder to kolonner har dobbeltbredde??"
   ]
  },
  {
   "cell_type": "code",
   "execution_count": 2,
   "id": "846581ae",
   "metadata": {},
   "outputs": [],
   "source": [
    "data = np.transpose(np.loadtxt('Alpha0Cross.txt', skiprows=1))\n",
    "GV = data[0][:14]\n",
    "counts = data[1][:14]\n",
    "countsErr = data[2][:14]\n",
    "VCharge = data[3][:14]\n",
    "solid = data[4][:14]\n",
    "directCounts = data[5][:14]"
   ]
  },
  {
   "cell_type": "code",
   "execution_count": null,
   "id": "c2cdb4e8",
   "metadata": {},
   "outputs": [],
   "source": [
    "#target har densitet 2.26g/cm³. Den er 1/3 N15, eller ca. 5/13 = 15/(2*12+15) i masse. dvs N15 har en densitet \n",
    "#på 5/13*2.26 g/cm^3"
   ]
  },
  {
   "cell_type": "code",
   "execution_count": 17,
   "id": "77fba3a0",
   "metadata": {},
   "outputs": [],
   "source": [
    "#med 1.57c i NPP\n",
    "#N_reactions = N_shot * (rho*thickness) * avogrados tal / atomic mass * cross * %rumvinkel\n",
    "coverage = solid / 4*np.pi\n",
    "N_shot = VCharge*5.85e7 * 1/0.95 #0.95 fra kalibrering\n",
    "rt = 5/13 * 2.26e6 * 40e-9 * 6.022*10e23 / 15\n",
    "cross = counts / (coverage * N_shot * rt) * 1e31\n",
    "directCross = directCounts / (coverage * N_shot * rt) * 1e31"
   ]
  },
  {
   "cell_type": "code",
   "execution_count": 40,
   "id": "d5cf6ef5",
   "metadata": {},
   "outputs": [
    {
     "data": {
      "text/plain": [
       "<matplotlib.legend.Legend at 0x7fd262c18610>"
      ]
     },
     "execution_count": 40,
     "metadata": {},
     "output_type": "execute_result"
    },
    {
     "data": {
      "image/png": "[encoded data removed]",
      "text/plain": [
       "<Figure size 576x432 with 1 Axes>"
      ]
     },
     "metadata": {
      "needs_background": "light"
     },
     "output_type": "display_data"
    }
   ],
   "source": [
    "#plt.plot(1.167*GV,cross,'.')\n",
    "fig, ax = plt.subplots(figsize = [8,6])\n",
    "ax.set_xlabel('Beam energy [keV]')\n",
    "ax.plot(1.167*GV,directCross,'.')\n",
    "ax.set_xlim(800,1400)\n",
    "ax.vlines(1028,0,8, label = 'Ep=1028 keV 1$^-$ state', color='red')\n",
    "ax.vlines(1210,0,8, label = 'Ep=1210 keV 3$^-$ state', color='orange')\n",
    "ax.set_ylabel('Cross section [mb]')\n",
    "ax.set_title(r'Cross section of $^{15}$N(p,$\\alpha$)$^{12}$C in 900-1250 keV range')\n",
    "ax.legend()"
   ]
  },
  {
   "cell_type": "code",
   "execution_count": 5,
   "id": "249ced69",
   "metadata": {},
   "outputs": [
    {
     "data": {
      "text/plain": [
       "array([1.55309310e+13, 1.32847065e+13, 6.22720800e+12, 1.08195750e+13,\n",
       "       1.01128950e+12, 2.02527000e+12, 9.36690300e+12, 3.75692850e+12,\n",
       "       6.64413750e+12, 7.30284750e+12, 2.75125500e+12, 4.21527600e+12,\n",
       "       8.71474500e+11, 6.68368350e+12])"
      ]
     },
     "execution_count": 5,
     "metadata": {},
     "output_type": "execute_result"
    }
   ],
   "source": [
    "VCharge*5.85e7"
   ]
  },
  {
   "cell_type": "code",
   "execution_count": null,
   "id": "121ed951",
   "metadata": {},
   "outputs": [],
   "source": [
    "data = np.transpose(np.loadtxt('Alpha0Cross.txt', skiprows=1))\n",
    "angles = data[0]\n",
    "counts = data[1]\n",
    "countsErr = data[2]\n",
    "directCounts = data[3]\n",
    "solid = data[4]\n",
    "VCharge = data[5]"
   ]
  },
  {
   "cell_type": "code",
   "execution_count": null,
   "id": "1d673d87",
   "metadata": {},
   "outputs": [],
   "source": [
    "#med 1.57c i NPP\n",
    "#N_reactions = N_shot * (rho*thickness) * avogrados tal / atomic mass * cross * %rumvinkel\n",
    "coverage = solid / 4*np.pi\n",
    "N_shot = VCharge*5.85e7 * 1/0.95 #0.95 fra kalibrering\n",
    "rt = 5/13 * 2.26e6 * 40e-9 * 6.022*10e23 / 15\n",
    "cross = counts / (coverage * N_shot * rt) * 1e31\n",
    "directCross = directCounts / (coverage * N_shot * rt) * 1e31"
   ]
  }
 ],
 "metadata": {
  "kernelspec": {
   "display_name": "Python 3 (ipykernel)",
   "language": "python",
   "name": "python3"
  },
  "language_info": {
   "codemirror_mode": {
    "name": "ipython",
    "version": 3
   },
   "file_extension": ".py",
   "mimetype": "text/x-python",
   "name": "python",
   "nbconvert_exporter": "python",
   "pygments_lexer": "ipython3",
   "version": "3.9.7"
  }
 },
 "nbformat": 4,
 "nbformat_minor": 5
}
